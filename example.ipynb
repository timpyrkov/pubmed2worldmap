{
 "cells": [
  {
   "cell_type": "code",
   "execution_count": null,
   "metadata": {},
   "outputs": [],
   "source": [
    "import sys\n",
    "sys.path.append(\"pubmed2worlmap/\")\n",
    "from geoutils import plot_worldmap\n",
    "from scraperutils import PubMedScraper\n",
    "from parserutils import parse_geo_data, cluster_topics, topic_wordcloud\n",
    "import nest_asyncio; nest_asyncio.apply()"
   ]
  },
  {
   "cell_type": "markdown",
   "metadata": {},
   "source": [
    "## COLLECT PUBMED DATA"
   ]
  },
  {
   "cell_type": "code",
   "execution_count": null,
   "metadata": {},
   "outputs": [],
   "source": [
    "search_terms = \"hydrothermal vents\"\n",
    "s = PubMedScraper(search_terms, folder=\"pubmed_download\", download=True)\n",
    "s.data"
   ]
  },
  {
   "cell_type": "markdown",
   "metadata": {},
   "source": [
    "# PARSE AND PLOT GEO DATA\n",
    "\n",
    "geopandas does not provide US states map, so you need to download a \".shp\" file manually e.g. from https://hub.arcgis.com/datasets/CMHS::states-shapefile/about"
   ]
  },
  {
   "cell_type": "code",
   "execution_count": null,
   "metadata": {
    "scrolled": false
   },
   "outputs": [],
   "source": [
    "data = parse_geo_data(s)\n",
    "plot_worldmap(data, us_shapefile=\"./geodata/States_shapefile.shp\",\n",
    "              caption=f'Num publications on \"{search_terms}\" in PubMed')"
   ]
  },
  {
   "cell_type": "markdown",
   "metadata": {},
   "source": [
    "## TOPICS"
   ]
  },
  {
   "cell_type": "code",
   "execution_count": null,
   "metadata": {
    "scrolled": true
   },
   "outputs": [],
   "source": [
    "cluster_topics(s)\n"
   ]
  },
  {
   "cell_type": "code",
   "execution_count": null,
   "metadata": {
    "scrolled": false
   },
   "outputs": [],
   "source": [
    "for topic in range(3):\n",
    "    topic_wordcloud(s, topic)\n"
   ]
  }
 ],
 "metadata": {
  "kernelspec": {
   "display_name": "py3.9",
   "language": "python",
   "name": "py3.9"
  },
  "language_info": {
   "codemirror_mode": {
    "name": "ipython",
    "version": 3
   },
   "file_extension": ".py",
   "mimetype": "text/x-python",
   "name": "python",
   "nbconvert_exporter": "python",
   "pygments_lexer": "ipython3",
   "version": "3.9.13"
  }
 },
 "nbformat": 4,
 "nbformat_minor": 1
}
